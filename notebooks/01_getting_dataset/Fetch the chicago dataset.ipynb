{
 "cells": [
  {
   "cell_type": "code",
   "execution_count": 1,
   "id": "6fde958a",
   "metadata": {},
   "outputs": [],
   "source": [
    "from google.oauth2 import service_account\n",
    "import pandas_gbq\n",
    "import time"
   ]
  },
  {
   "cell_type": "code",
   "execution_count": 2,
   "id": "a97850bd",
   "metadata": {},
   "outputs": [],
   "source": [
    "api_key_path = '../../api-key/bigquery-332415-dc899a25b253.json'\n",
    "credentials = service_account.Credentials.from_service_account_file(api_key_path)\n",
    "project_id = 'bigquery-332415' # The project id which belongs to my service account on Google Cloud"
   ]
  },
  {
   "cell_type": "code",
   "execution_count": 3,
   "id": "bf3d7eb3",
   "metadata": {},
   "outputs": [],
   "source": [
    "query = \"\"\"\n",
    "    SELECT *\n",
    "    FROM `bigquery-public-data.chicago_crime.crime`\n",
    "\"\"\""
   ]
  },
  {
   "cell_type": "code",
   "execution_count": 4,
   "id": "001372ac",
   "metadata": {},
   "outputs": [
    {
     "name": "stderr",
     "output_type": "stream",
     "text": [
      "Downloading: 100%|████████████████| 7444890/7444890 [42:30<00:00, 2918.99rows/s]\n",
      "/Users/kramer/Documents/DAT18b/7_semester/py-envs.nosync/ai-env/lib/python3.9/site-packages/google/cloud/bigquery/table.py:1967: FutureWarning: Using .astype to convert from timezone-aware dtype to timezone-naive dtype is deprecated and will raise in a future version.  Use obj.tz_localize(None) or obj.tz_convert('UTC').tz_localize(None) instead\n",
      "  df[column] = pandas.Series(df[column], dtype=dtypes[column])\n"
     ]
    }
   ],
   "source": [
    "start_time = time.time()\n",
    "df = pandas_gbq.read_gbq(query, project_id=project_id, credentials=credentials)\n",
    "end_time = time.time()\n",
    "result = end_time - start_time"
   ]
  },
  {
   "cell_type": "code",
   "execution_count": 5,
   "id": "b7004290",
   "metadata": {},
   "outputs": [
    {
     "name": "stdout",
     "output_type": "stream",
     "text": [
      "time: 2562.2074139118195\n"
     ]
    }
   ],
   "source": [
    "print('time:', end_time - start_time)"
   ]
  },
  {
   "cell_type": "code",
   "execution_count": 6,
   "id": "26d60715",
   "metadata": {},
   "outputs": [],
   "source": [
    "df.to_csv('../../datasets/chicago.csv')"
   ]
  },
  {
   "cell_type": "code",
   "execution_count": null,
   "id": "fa7fe3eb",
   "metadata": {},
   "outputs": [],
   "source": []
  }
 ],
 "metadata": {
  "kernelspec": {
   "display_name": "Python 3 (ipykernel)",
   "language": "python",
   "name": "python3"
  },
  "language_info": {
   "codemirror_mode": {
    "name": "ipython",
    "version": 3
   },
   "file_extension": ".py",
   "mimetype": "text/x-python",
   "name": "python",
   "nbconvert_exporter": "python",
   "pygments_lexer": "ipython3",
   "version": "3.9.8"
  }
 },
 "nbformat": 4,
 "nbformat_minor": 5
}
