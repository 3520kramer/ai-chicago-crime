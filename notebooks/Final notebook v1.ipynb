{
 "cells": [
  {
   "cell_type": "code",
   "execution_count": 1,
   "id": "0743958d",
   "metadata": {},
   "outputs": [],
   "source": [
    "from google.oauth2 import service_account\n",
    "import pandas_gbq\n",
    "import time"
   ]
  },
  {
   "cell_type": "markdown",
   "id": "100457ce",
   "metadata": {},
   "source": [
    "## Fetch the Chicago dataset\n",
    "(No execution)"
   ]
  },
  {
   "cell_type": "code",
   "execution_count": 2,
   "id": "970903b7",
   "metadata": {},
   "outputs": [],
   "source": [
    "%%perl -e0\n",
    "api_key_path = '../../api-key/bigquery-332415-dc899a25b253.json'\n",
    "credentials = service_account.Credentials.from_service_account_file(api_key_path)\n",
    "project_id = 'bigquery-332415' # The project id which belongs to my service account on Google Cloud\n",
    "\n",
    "query = \"\"\"\n",
    "    SELECT *\n",
    "    FROM `bigquery-public-data.chicago_crime.crime`\n",
    "\"\"\"\n",
    "\n",
    "start_time = time.time()\n",
    "df = pandas_gbq.read_gbq(query, project_id=project_id, credentials=credentials)\n",
    "end_time = time.time()\n",
    "result = end_time - start_time\n",
    "\n",
    "print('time:', end_time - start_time)\n",
    "\n",
    "df.to_csv('../../datasets/chicago.csv')\n"
   ]
  },
  {
   "cell_type": "code",
   "execution_count": null,
   "id": "cc2553c7",
   "metadata": {},
   "outputs": [],
   "source": []
  }
 ],
 "metadata": {
  "kernelspec": {
   "display_name": "Python 3 (ipykernel)",
   "language": "python",
   "name": "python3"
  },
  "language_info": {
   "codemirror_mode": {
    "name": "ipython",
    "version": 3
   },
   "file_extension": ".py",
   "mimetype": "text/x-python",
   "name": "python",
   "nbconvert_exporter": "python",
   "pygments_lexer": "ipython3",
   "version": "3.9.8"
  }
 },
 "nbformat": 4,
 "nbformat_minor": 5
}
