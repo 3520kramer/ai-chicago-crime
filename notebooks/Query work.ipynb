{
 "cells": [
  {
   "cell_type": "code",
   "execution_count": 8,
   "metadata": {},
   "outputs": [],
   "source": [
    "from google.oauth2 import service_account\n",
    "import pandas_gbq\n",
    "import time"
   ]
  },
  {
   "cell_type": "code",
   "execution_count": 9,
   "metadata": {},
   "outputs": [],
   "source": [
    "api_key_path = '/Users/kramer/Documents/DAT18b/7_semester/ai/exam/api-key/bigquery-332415-dc899a25b253.json'\n",
    "credentials = service_account.Credentials.from_service_account_file(api_key_path)\n",
    "project_id = 'bigquery-332415' # The project id which belongs to my service account on Google Cloud"
   ]
  },
  {
   "cell_type": "code",
   "execution_count": 10,
   "metadata": {},
   "outputs": [],
   "source": [
    "no_of_rows_query = \"\"\"\n",
    "    SELECT count(*) as no_of_entries\n",
    "    FROM `bigquery-public-data.chicago_crime.crime`\n",
    "    --limit 10\n",
    "\"\"\""
   ]
  },
  {
   "cell_type": "code",
   "execution_count": 17,
   "metadata": {},
   "outputs": [],
   "source": [
    "distinct_values_query = \"\"\"\n",
    "    SELECT distinct location_description\n",
    "    FROM `bigquery-public-data.chicago_crime.crime`\n",
    "\"\"\""
   ]
  },
  {
   "cell_type": "code",
   "execution_count": 12,
   "metadata": {},
   "outputs": [],
   "source": [
    "all_query = \"\"\"\n",
    "    SELECT *\n",
    "    FROM `bigquery-public-data.chicago_crime.crime`\n",
    "    LIMIT 100000\n",
    "\"\"\""
   ]
  },
  {
   "cell_type": "code",
   "execution_count": 18,
   "metadata": {
    "scrolled": true
   },
   "outputs": [
    {
     "name": "stderr",
     "output_type": "stream",
     "text": [
      "Downloading: 100%|█████████████████████████| 215/215 [00:00<00:00, 895.72rows/s]\n"
     ]
    }
   ],
   "source": [
    "start_time = time.time()\n",
    "df = pandas_gbq.read_gbq(distinct_values_query, project_id=project_id, credentials=credentials)\n",
    "end_time = time.time()\n",
    "result = end_time - start_time"
   ]
  },
  {
   "cell_type": "code",
   "execution_count": null,
   "metadata": {},
   "outputs": [],
   "source": [
    "print('time:', end_time - start_time)"
   ]
  },
  {
   "cell_type": "code",
   "execution_count": 20,
   "metadata": {},
   "outputs": [],
   "source": [
    "df.to_csv('/Users/kramer/Documents/DAT18b/7_semester/ai/exam/location_desv.csv')"
   ]
  },
  {
   "cell_type": "code",
   "execution_count": 6,
   "metadata": {},
   "outputs": [
    {
     "data": {
      "text/plain": [
       "1268"
      ]
     },
     "execution_count": 6,
     "metadata": {},
     "output_type": "execute_result"
    }
   ],
   "source": [
    "a = 7438719 - 7437451\n",
    "a"
   ]
  },
  {
   "cell_type": "code",
   "execution_count": null,
   "metadata": {},
   "outputs": [],
   "source": []
  }
 ],
 "metadata": {
  "kernelspec": {
   "display_name": "Python 3 (ipykernel)",
   "language": "python",
   "name": "python3"
  },
  "language_info": {
   "codemirror_mode": {
    "name": "ipython",
    "version": 3
   },
   "file_extension": ".py",
   "mimetype": "text/x-python",
   "name": "python",
   "nbconvert_exporter": "python",
   "pygments_lexer": "ipython3",
   "version": "3.9.8"
  }
 },
 "nbformat": 4,
 "nbformat_minor": 4
}
